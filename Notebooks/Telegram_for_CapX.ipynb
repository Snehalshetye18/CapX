{
  "nbformat": 4,
  "nbformat_minor": 0,
  "metadata": {
    "colab": {
      "provenance": []
    },
    "kernelspec": {
      "name": "python3",
      "display_name": "Python 3"
    },
    "language_info": {
      "name": "python"
    }
  },
  "cells": [
    {
      "cell_type": "code",
      "execution_count": 23,
      "metadata": {
        "id": "FW1snerFhHGd"
      },
      "outputs": [],
      "source": [
        "#Terminating is any previous session is still active\n",
        "import os\n",
        "if os.path.exists('session.session'):\n",
        "    os.remove('session.session')"
      ]
    },
    {
      "cell_type": "code",
      "source": [
        "!pip install telethon nest_asyncio"
      ],
      "metadata": {
        "id": "V1KLUFLUkhTw"
      },
      "execution_count": null,
      "outputs": []
    },
    {
      "cell_type": "code",
      "source": [
        "import pandas as pd\n",
        "from telethon import TelegramClient\n",
        "from telethon.tl.functions.messages import GetHistoryRequest\n",
        "import os\n",
        "\n",
        "api_id = 25283000\n",
        "api_hash = '0d6932aa2d65dd6abcd6882b0542b19b'\n",
        "target_channel = '@financialtimeschannel'\n",
        "\n",
        "client = TelegramClient('session', api_id, api_hash)\n",
        "\n",
        "async def scrape_telegram_data():\n",
        "    async with client:\n",
        "        entity = await client.get_entity(target_channel)\n",
        "        messages = []\n",
        "        offset_id = 0\n",
        "        limit_per_batch = 100  # Max limit per batch, but we can repeat until 2000\n",
        "        total_limit = 5000  # Total number of messages to fetch\n",
        "\n",
        "        print(f\"Scraping messages from: {target_channel}\")\n",
        "        print(f\"Entity: {entity}\")\n",
        "\n",
        "        while len(messages) < total_limit:\n",
        "            history = await client(GetHistoryRequest(\n",
        "                peer=entity,\n",
        "                offset_id=offset_id,\n",
        "                offset_date=None,\n",
        "                add_offset=0,\n",
        "                limit=limit_per_batch,  # Set to 100, but it will fetch in multiple batches.\n",
        "                max_id=0,\n",
        "                min_id=0,\n",
        "                hash=0\n",
        "            ))\n",
        "\n",
        "            if not history.messages:\n",
        "                print(\"No more messages found.\")\n",
        "                break\n",
        "\n",
        "            # Appending the fetched messages\n",
        "            for message in history.messages:\n",
        "                if message.message:  # Include only text messages\n",
        "                    messages.append({\n",
        "                        'date': message.date,\n",
        "                        'sender_id': message.sender_id,\n",
        "                        'text': message.message\n",
        "                    })\n",
        "\n",
        "            offset_id = history.messages[-1].id\n",
        "            print(f\"Fetched {len(history.messages)} messages in this batch. Total messages: {len(messages)}\")\n",
        "\n",
        "            if len(messages) >= total_limit:\n",
        "                break\n",
        "\n",
        "        # Saving messages to a CSV file (append mode)\n",
        "        if messages:\n",
        "            df = pd.DataFrame(messages)\n",
        "            # Checking if the file exists. If it does, append. Otherwise, create a new file.\n",
        "            if os.path.exists('telegram_data.csv'):\n",
        "                df.to_csv('telegram_data.csv', mode='a', header=False, index=False)\n",
        "                print(f\"Appended {len(messages)} messages to telegram_data.csv\")\n",
        "            else:\n",
        "                df.to_csv('telegram_data.csv', mode='w', header=True, index=False)\n",
        "                print(f\"Scraped {len(messages)} messages and saved to telegram_data.csv\")\n",
        "        else:\n",
        "            print(\"No messages scraped. Check the channel or permissions.\")\n",
        "\n",
        "# Running the scraper\n",
        "import asyncio\n",
        "asyncio.run(scrape_telegram_data())\n"
      ],
      "metadata": {
        "colab": {
          "base_uri": "https://localhost:8080/"
        },
        "id": "Nj9t4E4FimnX",
        "outputId": "d4983b89-4068-4f78-e58d-811e6a7ba9d2"
      },
      "execution_count": 16,
      "outputs": [
        {
          "output_type": "stream",
          "name": "stdout",
          "text": [
            "Scraping messages from: @financialtimeschannel\n",
            "Entity: Channel(id=1385419036, title='Financial Times', photo=ChatPhoto(photo_id=4990276575593343148, dc_id=1, has_video=False, stripped_thumb=b'\\x01\\x08\\x08\\xb4\\x03\\xf9jN\\xed\\xd9\\x19\\x1f\\x8f4QEfY'), date=datetime.datetime(2020, 1, 21, 22, 44, 11, tzinfo=datetime.timezone.utc), creator=False, left=True, broadcast=True, verified=False, megagroup=False, restricted=False, signatures=False, min=False, scam=False, has_link=True, has_geo=False, slowmode_enabled=False, call_active=False, call_not_empty=False, fake=False, gigagroup=False, noforwards=False, join_to_send=False, join_request=False, forum=False, stories_hidden=False, stories_hidden_min=True, stories_unavailable=True, signature_profiles=False, access_hash=7338827050198741589, username='financialtimeschannel', restriction_reason=[], admin_rights=None, banned_rights=None, default_banned_rights=None, participants_count=None, usernames=[], stories_max_id=None, color=None, profile_color=None, emoji_status=None, level=None, subscription_until_date=None)\n",
            "Fetched 100 messages in this batch. Total messages: 100\n",
            "Fetched 100 messages in this batch. Total messages: 200\n",
            "Fetched 100 messages in this batch. Total messages: 300\n",
            "Fetched 100 messages in this batch. Total messages: 400\n",
            "Fetched 100 messages in this batch. Total messages: 500\n",
            "Fetched 100 messages in this batch. Total messages: 600\n",
            "Fetched 100 messages in this batch. Total messages: 700\n",
            "Fetched 100 messages in this batch. Total messages: 800\n",
            "Fetched 100 messages in this batch. Total messages: 900\n",
            "Fetched 100 messages in this batch. Total messages: 1000\n",
            "Fetched 100 messages in this batch. Total messages: 1100\n",
            "Fetched 100 messages in this batch. Total messages: 1200\n",
            "Fetched 100 messages in this batch. Total messages: 1300\n",
            "Fetched 100 messages in this batch. Total messages: 1400\n",
            "Fetched 100 messages in this batch. Total messages: 1500\n",
            "Fetched 100 messages in this batch. Total messages: 1600\n",
            "Fetched 100 messages in this batch. Total messages: 1700\n",
            "Fetched 100 messages in this batch. Total messages: 1800\n",
            "Fetched 100 messages in this batch. Total messages: 1900\n",
            "Fetched 100 messages in this batch. Total messages: 2000\n",
            "Fetched 100 messages in this batch. Total messages: 2100\n",
            "Fetched 100 messages in this batch. Total messages: 2200\n",
            "Fetched 100 messages in this batch. Total messages: 2300\n",
            "Fetched 100 messages in this batch. Total messages: 2400\n",
            "Fetched 100 messages in this batch. Total messages: 2500\n",
            "Fetched 100 messages in this batch. Total messages: 2600\n",
            "Fetched 100 messages in this batch. Total messages: 2700\n",
            "Fetched 100 messages in this batch. Total messages: 2800\n",
            "Fetched 100 messages in this batch. Total messages: 2900\n",
            "Fetched 100 messages in this batch. Total messages: 3000\n",
            "Fetched 100 messages in this batch. Total messages: 3100\n",
            "Fetched 100 messages in this batch. Total messages: 3200\n",
            "Fetched 100 messages in this batch. Total messages: 3300\n",
            "Fetched 100 messages in this batch. Total messages: 3400\n",
            "Fetched 100 messages in this batch. Total messages: 3500\n",
            "Fetched 100 messages in this batch. Total messages: 3600\n",
            "Fetched 100 messages in this batch. Total messages: 3700\n",
            "Fetched 100 messages in this batch. Total messages: 3800\n",
            "Fetched 100 messages in this batch. Total messages: 3900\n",
            "Fetched 100 messages in this batch. Total messages: 4000\n",
            "Fetched 100 messages in this batch. Total messages: 4100\n",
            "Fetched 100 messages in this batch. Total messages: 4200\n",
            "Fetched 100 messages in this batch. Total messages: 4300\n",
            "Fetched 100 messages in this batch. Total messages: 4400\n",
            "Fetched 100 messages in this batch. Total messages: 4500\n",
            "Fetched 100 messages in this batch. Total messages: 4600\n",
            "Fetched 100 messages in this batch. Total messages: 4700\n",
            "Fetched 100 messages in this batch. Total messages: 4800\n",
            "Fetched 100 messages in this batch. Total messages: 4900\n",
            "Fetched 100 messages in this batch. Total messages: 5000\n",
            "Appended 5000 messages to telegram_data.csv\n"
          ]
        }
      ]
    },
    {
      "cell_type": "code",
      "source": [
        "import pandas as pd\n",
        "import re\n",
        "from nltk.corpus import stopwords\n",
        "from nltk.tokenize import word_tokenize\n",
        "from nltk.stem import WordNetLemmatizer\n",
        "import nltk\n",
        "\n",
        "# Downloading the 'punkt_tab' data\n",
        "nltk.download('punkt_tab')  # This line is added\n",
        "\n",
        "nltk.download('punkt')\n",
        "nltk.download('stopwords')\n",
        "nltk.download('wordnet')\n",
        "\n",
        "# Loading the scraped data\n",
        "df = pd.read_csv('telegram_data.csv')\n",
        "\n",
        "# Text preprocessing function\n",
        "def preprocess_text(text):\n",
        "    # Remove URLs\n",
        "    text = re.sub(r'http\\S+|www.\\S+', '', text)\n",
        "    # Remove special characters and numbers\n",
        "    text = re.sub(r'[^a-zA-Z\\s]', '', text)\n",
        "    # Tokenize\n",
        "    tokens = word_tokenize(text.lower())\n",
        "    # Remove stopwords\n",
        "    stop_words = set(stopwords.words('english'))\n",
        "    tokens = [word for word in tokens if word not in stop_words]\n",
        "    # Lemmatize\n",
        "    lemmatizer = WordNetLemmatizer()\n",
        "    tokens = [lemmatizer.lemmatize(word) for word in tokens]\n",
        "    return ' '.join(tokens)\n",
        "\n",
        "# Performing preprocessing\n",
        "df['cleaned_text'] = df['text'].apply(preprocess_text)\n",
        "df.to_csv('preprocessed_data.csv', index=False)\n",
        "print(\"Preprocessed data saved to preprocessed_data.csv\")"
      ],
      "metadata": {
        "colab": {
          "base_uri": "https://localhost:8080/"
        },
        "id": "4FVLyN6m2BdJ",
        "outputId": "4b8afcef-0e0a-4a8d-e7ff-f30df8cc45f1"
      },
      "execution_count": 18,
      "outputs": [
        {
          "output_type": "stream",
          "name": "stderr",
          "text": [
            "[nltk_data] Downloading package punkt_tab to /root/nltk_data...\n",
            "[nltk_data]   Unzipping tokenizers/punkt_tab.zip.\n",
            "[nltk_data] Downloading package punkt to /root/nltk_data...\n",
            "[nltk_data]   Package punkt is already up-to-date!\n",
            "[nltk_data] Downloading package stopwords to /root/nltk_data...\n",
            "[nltk_data]   Package stopwords is already up-to-date!\n",
            "[nltk_data] Downloading package wordnet to /root/nltk_data...\n",
            "[nltk_data]   Package wordnet is already up-to-date!\n"
          ]
        },
        {
          "output_type": "stream",
          "name": "stdout",
          "text": [
            "Preprocessed data saved to preprocessed_data.csv\n"
          ]
        }
      ]
    },
    {
      "cell_type": "code",
      "source": [
        "from nltk.sentiment import SentimentIntensityAnalyzer\n",
        "\n",
        "nltk.download('vader_lexicon')\n",
        "sia = SentimentIntensityAnalyzer()\n",
        "\n",
        "# Applying sentiment analysis\n",
        "df['sentiment'] = df['cleaned_text'].apply(lambda x: sia.polarity_scores(x)['compound'])\n",
        "df['sentiment_label'] = df['sentiment'].apply(lambda x: 'positive' if x > 0.05 else 'negative' if x < -0.05 else 'neutral')\n",
        "df.to_csv('sentiment_data.csv', index=False)\n",
        "print(\"Sentiment analysis completed and saved to sentiment_data.csv\")"
      ],
      "metadata": {
        "colab": {
          "base_uri": "https://localhost:8080/"
        },
        "id": "_3kZPdiR3Nf2",
        "outputId": "9c5065df-43f1-4494-9c75-69d9cee984d2"
      },
      "execution_count": 19,
      "outputs": [
        {
          "output_type": "stream",
          "name": "stderr",
          "text": [
            "[nltk_data] Downloading package vader_lexicon to /root/nltk_data...\n"
          ]
        },
        {
          "output_type": "stream",
          "name": "stdout",
          "text": [
            "Sentiment analysis completed and saved to sentiment_data.csv\n"
          ]
        }
      ]
    },
    {
      "cell_type": "code",
      "source": [
        "from sklearn.model_selection import train_test_split\n",
        "from sklearn.feature_extraction.text import TfidfVectorizer\n",
        "from sklearn.ensemble import RandomForestClassifier\n",
        "from sklearn.metrics import classification_report\n",
        "\n",
        "# Loading sentiment data\n",
        "df = pd.read_csv('sentiment_data.csv')\n",
        "\n",
        "# Replacing NaN values in 'cleaned_text' with empty strings\n",
        "df['cleaned_text'] = df['cleaned_text'].fillna('')\n",
        "\n",
        "# Converting text into numerical features\n",
        "vectorizer = TfidfVectorizer(max_features=5000)\n",
        "X = vectorizer.fit_transform(df['cleaned_text']).toarray()\n",
        "y = df['sentiment_label']\n",
        "\n",
        "# Splitting data\n",
        "X_train, X_test, y_train, y_test = train_test_split(X, y, test_size=0.2, random_state=42)\n",
        "\n",
        "# Training a Random Forest Classifier\n",
        "model = RandomForestClassifier(n_estimators=100, random_state=42)\n",
        "model.fit(X_train, y_train)\n",
        "\n",
        "# Evaluating the model\n",
        "y_pred = model.predict(X_test)\n",
        "print(classification_report(y_test, y_pred))"
      ],
      "metadata": {
        "colab": {
          "base_uri": "https://localhost:8080/"
        },
        "id": "AP2w157N3px-",
        "outputId": "c488b6ab-f393-48b2-db93-1a8cf3b59dae"
      },
      "execution_count": 21,
      "outputs": [
        {
          "output_type": "stream",
          "name": "stdout",
          "text": [
            "              precision    recall  f1-score   support\n",
            "\n",
            "    negative       0.88      0.69      0.77       421\n",
            "     neutral       0.86      0.99      0.92      1274\n",
            "    positive       0.96      0.85      0.90       905\n",
            "\n",
            "    accuracy                           0.89      2600\n",
            "   macro avg       0.90      0.84      0.86      2600\n",
            "weighted avg       0.90      0.89      0.89      2600\n",
            "\n"
          ]
        }
      ]
    },
    {
      "cell_type": "code",
      "source": [
        "from sklearn.metrics import confusion_matrix, accuracy_score\n",
        "import seaborn as sns\n",
        "import matplotlib.pyplot as plt\n",
        "\n",
        "# Confusion matrix\n",
        "cm = confusion_matrix(y_test, y_pred)\n",
        "sns.heatmap(cm, annot=True, fmt='d', cmap='Blues', xticklabels=model.classes_, yticklabels=model.classes_)\n",
        "plt.title('Confusion Matrix')\n",
        "plt.xlabel('Predicted')\n",
        "plt.ylabel('True')\n",
        "plt.show()\n",
        "\n",
        "# Accuracy\n",
        "accuracy = accuracy_score(y_test, y_pred)\n",
        "print(f\"Model Accuracy: {accuracy * 100:.2f}%\")"
      ],
      "metadata": {
        "colab": {
          "base_uri": "https://localhost:8080/",
          "height": 489
        },
        "id": "d6MgDvY54I6W",
        "outputId": "d89b8cf0-7d5a-4271-f99a-217e04f1fb45"
      },
      "execution_count": 22,
      "outputs": [
        {
          "output_type": "display_data",
          "data": {
            "text/plain": [
              "<Figure size 640x480 with 2 Axes>"
            ],
            "image/png": "[encoded data removed]"
          },
          "metadata": {}
        },
        {
          "output_type": "stream",
          "name": "stdout",
          "text": [
            "Model Accuracy: 89.15%\n"
          ]
        }
      ]
    },
    {
      "cell_type": "code",
      "source": [],
      "metadata": {
        "id": "0aP_rHC84492"
      },
      "execution_count": null,
      "outputs": []
    }
  ]
}